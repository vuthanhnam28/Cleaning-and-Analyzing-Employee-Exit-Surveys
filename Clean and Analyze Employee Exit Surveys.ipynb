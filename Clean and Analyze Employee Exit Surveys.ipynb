{
 "cells": [
  {
   "cell_type": "markdown",
   "id": "3aa88a13",
   "metadata": {},
   "source": [
    "# Cleaning and Analyzing Employee Exit Surveys"
   ]
  },
  {
   "cell_type": "markdown",
   "id": "45e5fb39",
   "metadata": {},
   "source": [
    "In this project we'll work with exit surveys from employees of the Department of Education Training an Employment (DETE) and the Technical and Further Education (TAFE) institute in Queensland, Australia."
   ]
  },
  {
   "cell_type": "markdown",
   "id": "b3436c5b",
   "metadata": {},
   "source": [
    "### The Goal\n",
    "In this analysis we want to answer two questions:\n",
    "\n",
    "- Are employees who only worked for the institute for a short period of time resigning due to some kind of dissatisfaction?\n",
    "- What about employees who have been there longer?\n",
    "- Are younger emplyees resigning due to some kind of dissatisfaction?\n",
    "- What about older employees?"
   ]
  },
  {
   "cell_type": "markdown",
   "id": "69a505aa",
   "metadata": {},
   "source": [
    "### The datasets\n",
    "The DETE dataset was made available thanks to the Queensland government, and can be downloaded from here. The original TAFE exit survey data is no longer available. The dataset I've used in this project is provided by the Dataquest team. Both datasets have been modified slightly to make the easier to work with, including changing the encoding to UTF-8."
   ]
  },
  {
   "cell_type": "code",
   "execution_count": 1,
   "id": "2848ba58",
   "metadata": {},
   "outputs": [],
   "source": [
    "import pandas as pd\n",
    "import numpy as np\n",
    "import matplotlib.pyplot as plt\n",
    "%matplotlib inline"
   ]
  },
  {
   "cell_type": "markdown",
   "id": "ff42ade0",
   "metadata": {},
   "source": [
    "Let's start by reading the file and getting some initial information from it."
   ]
  },
  {
   "cell_type": "code",
   "execution_count": 2,
   "id": "9426abd7",
   "metadata": {},
   "outputs": [],
   "source": [
    "dete = pd.read_csv('dete_survey.csv')\n",
    "tafe = pd.read_csv('tafe_survey.csv')"
   ]
  },
  {
   "cell_type": "code",
   "execution_count": 3,
   "id": "61d46813",
   "metadata": {},
   "outputs": [
    {
     "name": "stdout",
     "output_type": "stream",
     "text": [
      "<class 'pandas.core.frame.DataFrame'>\n",
      "RangeIndex: 822 entries, 0 to 821\n",
      "Data columns (total 56 columns):\n",
      " #   Column                               Non-Null Count  Dtype \n",
      "---  ------                               --------------  ----- \n",
      " 0   ID                                   822 non-null    int64 \n",
      " 1   SeparationType                       822 non-null    object\n",
      " 2   Cease Date                           822 non-null    object\n",
      " 3   DETE Start Date                      822 non-null    object\n",
      " 4   Role Start Date                      822 non-null    object\n",
      " 5   Position                             817 non-null    object\n",
      " 6   Classification                       455 non-null    object\n",
      " 7   Region                               822 non-null    object\n",
      " 8   Business Unit                        126 non-null    object\n",
      " 9   Employment Status                    817 non-null    object\n",
      " 10  Career move to public sector         822 non-null    bool  \n",
      " 11  Career move to private sector        822 non-null    bool  \n",
      " 12  Interpersonal conflicts              822 non-null    bool  \n",
      " 13  Job dissatisfaction                  822 non-null    bool  \n",
      " 14  Dissatisfaction with the department  822 non-null    bool  \n",
      " 15  Physical work environment            822 non-null    bool  \n",
      " 16  Lack of recognition                  822 non-null    bool  \n",
      " 17  Lack of job security                 822 non-null    bool  \n",
      " 18  Work location                        822 non-null    bool  \n",
      " 19  Employment conditions                822 non-null    bool  \n",
      " 20  Maternity/family                     822 non-null    bool  \n",
      " 21  Relocation                           822 non-null    bool  \n",
      " 22  Study/Travel                         822 non-null    bool  \n",
      " 23  Ill Health                           822 non-null    bool  \n",
      " 24  Traumatic incident                   822 non-null    bool  \n",
      " 25  Work life balance                    822 non-null    bool  \n",
      " 26  Workload                             822 non-null    bool  \n",
      " 27  None of the above                    822 non-null    bool  \n",
      " 28  Professional Development             808 non-null    object\n",
      " 29  Opportunities for promotion          735 non-null    object\n",
      " 30  Staff morale                         816 non-null    object\n",
      " 31  Workplace issue                      788 non-null    object\n",
      " 32  Physical environment                 817 non-null    object\n",
      " 33  Worklife balance                     815 non-null    object\n",
      " 34  Stress and pressure support          810 non-null    object\n",
      " 35  Performance of supervisor            813 non-null    object\n",
      " 36  Peer support                         812 non-null    object\n",
      " 37  Initiative                           813 non-null    object\n",
      " 38  Skills                               811 non-null    object\n",
      " 39  Coach                                767 non-null    object\n",
      " 40  Career Aspirations                   746 non-null    object\n",
      " 41  Feedback                             792 non-null    object\n",
      " 42  Further PD                           768 non-null    object\n",
      " 43  Communication                        814 non-null    object\n",
      " 44  My say                               812 non-null    object\n",
      " 45  Information                          816 non-null    object\n",
      " 46  Kept informed                        813 non-null    object\n",
      " 47  Wellness programs                    766 non-null    object\n",
      " 48  Health & Safety                      793 non-null    object\n",
      " 49  Gender                               798 non-null    object\n",
      " 50  Age                                  811 non-null    object\n",
      " 51  Aboriginal                           16 non-null     object\n",
      " 52  Torres Strait                        3 non-null      object\n",
      " 53  South Sea                            7 non-null      object\n",
      " 54  Disability                           23 non-null     object\n",
      " 55  NESB                                 32 non-null     object\n",
      "dtypes: bool(18), int64(1), object(37)\n",
      "memory usage: 258.6+ KB\n"
     ]
    }
   ],
   "source": [
    "dete.info()"
   ]
  },
  {
   "cell_type": "code",
   "execution_count": 4,
   "id": "3658bf56",
   "metadata": {},
   "outputs": [
    {
     "data": {
      "text/html": [
       "<div>\n",
       "<style scoped>\n",
       "    .dataframe tbody tr th:only-of-type {\n",
       "        vertical-align: middle;\n",
       "    }\n",
       "\n",
       "    .dataframe tbody tr th {\n",
       "        vertical-align: top;\n",
       "    }\n",
       "\n",
       "    .dataframe thead th {\n",
       "        text-align: right;\n",
       "    }\n",
       "</style>\n",
       "<table border=\"1\" class=\"dataframe\">\n",
       "  <thead>\n",
       "    <tr style=\"text-align: right;\">\n",
       "      <th></th>\n",
       "      <th>ID</th>\n",
       "      <th>SeparationType</th>\n",
       "      <th>Cease Date</th>\n",
       "      <th>DETE Start Date</th>\n",
       "      <th>Role Start Date</th>\n",
       "      <th>Position</th>\n",
       "      <th>Classification</th>\n",
       "      <th>Region</th>\n",
       "      <th>Business Unit</th>\n",
       "      <th>Employment Status</th>\n",
       "      <th>...</th>\n",
       "      <th>Kept informed</th>\n",
       "      <th>Wellness programs</th>\n",
       "      <th>Health &amp; Safety</th>\n",
       "      <th>Gender</th>\n",
       "      <th>Age</th>\n",
       "      <th>Aboriginal</th>\n",
       "      <th>Torres Strait</th>\n",
       "      <th>South Sea</th>\n",
       "      <th>Disability</th>\n",
       "      <th>NESB</th>\n",
       "    </tr>\n",
       "  </thead>\n",
       "  <tbody>\n",
       "    <tr>\n",
       "      <th>0</th>\n",
       "      <td>1</td>\n",
       "      <td>Ill Health Retirement</td>\n",
       "      <td>08/2012</td>\n",
       "      <td>1984</td>\n",
       "      <td>2004</td>\n",
       "      <td>Public Servant</td>\n",
       "      <td>A01-A04</td>\n",
       "      <td>Central Office</td>\n",
       "      <td>Corporate Strategy and Peformance</td>\n",
       "      <td>Permanent Full-time</td>\n",
       "      <td>...</td>\n",
       "      <td>N</td>\n",
       "      <td>N</td>\n",
       "      <td>N</td>\n",
       "      <td>Male</td>\n",
       "      <td>56-60</td>\n",
       "      <td>NaN</td>\n",
       "      <td>NaN</td>\n",
       "      <td>NaN</td>\n",
       "      <td>NaN</td>\n",
       "      <td>Yes</td>\n",
       "    </tr>\n",
       "    <tr>\n",
       "      <th>1</th>\n",
       "      <td>2</td>\n",
       "      <td>Voluntary Early Retirement (VER)</td>\n",
       "      <td>08/2012</td>\n",
       "      <td>Not Stated</td>\n",
       "      <td>Not Stated</td>\n",
       "      <td>Public Servant</td>\n",
       "      <td>AO5-AO7</td>\n",
       "      <td>Central Office</td>\n",
       "      <td>Corporate Strategy and Peformance</td>\n",
       "      <td>Permanent Full-time</td>\n",
       "      <td>...</td>\n",
       "      <td>N</td>\n",
       "      <td>N</td>\n",
       "      <td>N</td>\n",
       "      <td>Male</td>\n",
       "      <td>56-60</td>\n",
       "      <td>NaN</td>\n",
       "      <td>NaN</td>\n",
       "      <td>NaN</td>\n",
       "      <td>NaN</td>\n",
       "      <td>NaN</td>\n",
       "    </tr>\n",
       "    <tr>\n",
       "      <th>2</th>\n",
       "      <td>3</td>\n",
       "      <td>Voluntary Early Retirement (VER)</td>\n",
       "      <td>05/2012</td>\n",
       "      <td>2011</td>\n",
       "      <td>2011</td>\n",
       "      <td>Schools Officer</td>\n",
       "      <td>NaN</td>\n",
       "      <td>Central Office</td>\n",
       "      <td>Education Queensland</td>\n",
       "      <td>Permanent Full-time</td>\n",
       "      <td>...</td>\n",
       "      <td>N</td>\n",
       "      <td>N</td>\n",
       "      <td>N</td>\n",
       "      <td>Male</td>\n",
       "      <td>61 or older</td>\n",
       "      <td>NaN</td>\n",
       "      <td>NaN</td>\n",
       "      <td>NaN</td>\n",
       "      <td>NaN</td>\n",
       "      <td>NaN</td>\n",
       "    </tr>\n",
       "    <tr>\n",
       "      <th>3</th>\n",
       "      <td>4</td>\n",
       "      <td>Resignation-Other reasons</td>\n",
       "      <td>05/2012</td>\n",
       "      <td>2005</td>\n",
       "      <td>2006</td>\n",
       "      <td>Teacher</td>\n",
       "      <td>Primary</td>\n",
       "      <td>Central Queensland</td>\n",
       "      <td>NaN</td>\n",
       "      <td>Permanent Full-time</td>\n",
       "      <td>...</td>\n",
       "      <td>A</td>\n",
       "      <td>N</td>\n",
       "      <td>A</td>\n",
       "      <td>Female</td>\n",
       "      <td>36-40</td>\n",
       "      <td>NaN</td>\n",
       "      <td>NaN</td>\n",
       "      <td>NaN</td>\n",
       "      <td>NaN</td>\n",
       "      <td>NaN</td>\n",
       "    </tr>\n",
       "    <tr>\n",
       "      <th>4</th>\n",
       "      <td>5</td>\n",
       "      <td>Age Retirement</td>\n",
       "      <td>05/2012</td>\n",
       "      <td>1970</td>\n",
       "      <td>1989</td>\n",
       "      <td>Head of Curriculum/Head of Special Education</td>\n",
       "      <td>NaN</td>\n",
       "      <td>South East</td>\n",
       "      <td>NaN</td>\n",
       "      <td>Permanent Full-time</td>\n",
       "      <td>...</td>\n",
       "      <td>N</td>\n",
       "      <td>A</td>\n",
       "      <td>M</td>\n",
       "      <td>Female</td>\n",
       "      <td>61 or older</td>\n",
       "      <td>NaN</td>\n",
       "      <td>NaN</td>\n",
       "      <td>NaN</td>\n",
       "      <td>NaN</td>\n",
       "      <td>NaN</td>\n",
       "    </tr>\n",
       "  </tbody>\n",
       "</table>\n",
       "<p>5 rows × 56 columns</p>\n",
       "</div>"
      ],
      "text/plain": [
       "   ID                    SeparationType Cease Date DETE Start Date  \\\n",
       "0   1             Ill Health Retirement    08/2012            1984   \n",
       "1   2  Voluntary Early Retirement (VER)    08/2012      Not Stated   \n",
       "2   3  Voluntary Early Retirement (VER)    05/2012            2011   \n",
       "3   4         Resignation-Other reasons    05/2012            2005   \n",
       "4   5                    Age Retirement    05/2012            1970   \n",
       "\n",
       "  Role Start Date                                      Position  \\\n",
       "0            2004                                Public Servant   \n",
       "1      Not Stated                                Public Servant   \n",
       "2            2011                               Schools Officer   \n",
       "3            2006                                       Teacher   \n",
       "4            1989  Head of Curriculum/Head of Special Education   \n",
       "\n",
       "  Classification              Region                      Business Unit  \\\n",
       "0        A01-A04      Central Office  Corporate Strategy and Peformance   \n",
       "1        AO5-AO7      Central Office  Corporate Strategy and Peformance   \n",
       "2            NaN      Central Office               Education Queensland   \n",
       "3        Primary  Central Queensland                                NaN   \n",
       "4            NaN          South East                                NaN   \n",
       "\n",
       "     Employment Status  ...  Kept informed  Wellness programs  \\\n",
       "0  Permanent Full-time  ...              N                  N   \n",
       "1  Permanent Full-time  ...              N                  N   \n",
       "2  Permanent Full-time  ...              N                  N   \n",
       "3  Permanent Full-time  ...              A                  N   \n",
       "4  Permanent Full-time  ...              N                  A   \n",
       "\n",
       "   Health & Safety  Gender          Age  Aboriginal  Torres Strait  South Sea  \\\n",
       "0                N    Male        56-60         NaN            NaN        NaN   \n",
       "1                N    Male        56-60         NaN            NaN        NaN   \n",
       "2                N    Male  61 or older         NaN            NaN        NaN   \n",
       "3                A  Female        36-40         NaN            NaN        NaN   \n",
       "4                M  Female  61 or older         NaN            NaN        NaN   \n",
       "\n",
       "   Disability  NESB  \n",
       "0         NaN   Yes  \n",
       "1         NaN   NaN  \n",
       "2         NaN   NaN  \n",
       "3         NaN   NaN  \n",
       "4         NaN   NaN  \n",
       "\n",
       "[5 rows x 56 columns]"
      ]
     },
     "execution_count": 4,
     "metadata": {},
     "output_type": "execute_result"
    }
   ],
   "source": [
    "dete.head()"
   ]
  },
  {
   "cell_type": "markdown",
   "id": "38e824a8",
   "metadata": {},
   "source": [
    "The DETE dataset is composed of 822 entries, each with 56 different columns. No dictionary was provided with the dataset, but the relevany columns to answer our questions seem to be:\n",
    "\n",
    "| Name\t| Type\t| Description|\n",
    "|:-------|:-------|:---|\n",
    "|ID\t|Numeric\t|A unique participant identifier|\n",
    "|SeparationType\t|Categorical\t|The reason for the person's termination of employment|\n",
    "|Cease Date\t|string\t|Year and month of the person's termination of employment|\n",
    "|DETE Start Date\t|string\t|Year the person's DETE employment began|\n",
    "|Job dissatisfaction\t|boolean\t|Did the person's employment end due to job dissatisfaction|\n",
    "|Dissatisfaction with the department\t|boolean\t|Did the person's employment end due to dissatisfaction with the department|\n",
    "|Physical work environment\t|boolean\t|Did the person's employment end due to issues with the physical work environment|\n",
    "|Lack of recognition\t|boolean\t|Did the person's employment end due to lack of recognition|\n",
    "|Lack of job security\t|boolean\t|Did the person's employment end due to lack of job security|\n",
    "|Work location\t|boolean\t|Did the person's employment end due to issues with the work's location|\n",
    "|Employment conditions\t|boolean\t|Did the person's employment end due to issues with the employment conditions|\n",
    "|Work life balance\t|boolean\t|Did the person's employment end due to issues with the company's work-life balance|\n",
    "|Workload\t|boolean\t|Did the person's employment end due to issues with the workload|\n",
    "|Age\t|categorical\t|The person's age bracket at the time of filling the survey|"
   ]
  },
  {
   "cell_type": "markdown",
   "id": "58c21f5c",
   "metadata": {},
   "source": [
    "Let's look for missing values in the relevant columns we've identified above:"
   ]
  },
  {
   "cell_type": "code",
   "execution_count": 5,
   "id": "8a70c554",
   "metadata": {},
   "outputs": [
    {
     "data": {
      "text/plain": [
       "ID                                      0\n",
       "SeparationType                          0\n",
       "Cease Date                              0\n",
       "DETE Start Date                         0\n",
       "Job dissatisfaction                     0\n",
       "Dissatisfaction with the department     0\n",
       "Physical work environment               0\n",
       "Lack of recognition                     0\n",
       "Lack of job security                    0\n",
       "Work location                           0\n",
       "Employment conditions                   0\n",
       "Work life balance                       0\n",
       "Workload                                0\n",
       "Age                                    11\n",
       "dtype: int64"
      ]
     },
     "execution_count": 5,
     "metadata": {},
     "output_type": "execute_result"
    }
   ],
   "source": [
    "dete_relevant_cols = ['ID', 'SeparationType',\n",
    "                      'Cease Date', 'DETE Start Date',\n",
    "                      'Job dissatisfaction',\n",
    "                      'Dissatisfaction with the department',\n",
    "                      'Physical work environment',\n",
    "                      'Lack of recognition',\n",
    "                      'Lack of job security',\n",
    "                      'Work location',\n",
    "                      'Employment conditions',\n",
    "                      'Work life balance',\n",
    "                      'Workload', 'Age']\n",
    "dete[dete_relevant_cols].isnull().sum()"
   ]
  },
  {
   "cell_type": "markdown",
   "id": "225121d0",
   "metadata": {},
   "source": [
    "It looks like there are no missing entries in the relevant DETE columns, but if we take a closer look at some of the columns we'll see that they contain a 'Not Stated' value when values are missing. For example, let's look at the `Cease date`:"
   ]
  },
  {
   "cell_type": "code",
   "execution_count": 6,
   "id": "ce1e4a8f",
   "metadata": {},
   "outputs": [
    {
     "data": {
      "text/plain": [
       "Cease Date\n",
       "2012          344\n",
       "2013          200\n",
       "01/2014        43\n",
       "12/2013        40\n",
       "Not Stated     34\n",
       "09/2013        34\n",
       "06/2013        27\n",
       "07/2013        22\n",
       "10/2013        20\n",
       "11/2013        16\n",
       "08/2013        12\n",
       "05/2013         7\n",
       "05/2012         6\n",
       "04/2014         2\n",
       "07/2014         2\n",
       "08/2012         2\n",
       "04/2013         2\n",
       "02/2014         2\n",
       "11/2012         1\n",
       "09/2010         1\n",
       "2010            1\n",
       "2014            1\n",
       "07/2012         1\n",
       "09/2014         1\n",
       "07/2006         1\n",
       "Name: count, dtype: int64"
      ]
     },
     "execution_count": 6,
     "metadata": {},
     "output_type": "execute_result"
    }
   ],
   "source": [
    "dete['Cease Date'].value_counts()"
   ]
  },
  {
   "cell_type": "markdown",
   "id": "3838f5c8",
   "metadata": {},
   "source": [
    "Now, let's do the same for the TAFE survey:"
   ]
  },
  {
   "cell_type": "code",
   "execution_count": 7,
   "id": "5cb7c846",
   "metadata": {},
   "outputs": [
    {
     "name": "stdout",
     "output_type": "stream",
     "text": [
      "<class 'pandas.core.frame.DataFrame'>\n",
      "RangeIndex: 702 entries, 0 to 701\n",
      "Data columns (total 72 columns):\n",
      " #   Column                                                                                                                                                         Non-Null Count  Dtype  \n",
      "---  ------                                                                                                                                                         --------------  -----  \n",
      " 0   Record ID                                                                                                                                                      702 non-null    float64\n",
      " 1   Institute                                                                                                                                                      702 non-null    object \n",
      " 2   WorkArea                                                                                                                                                       702 non-null    object \n",
      " 3   CESSATION YEAR                                                                                                                                                 695 non-null    float64\n",
      " 4   Reason for ceasing employment                                                                                                                                  701 non-null    object \n",
      " 5   Contributing Factors. Career Move - Public Sector                                                                                                              437 non-null    object \n",
      " 6   Contributing Factors. Career Move - Private Sector                                                                                                             437 non-null    object \n",
      " 7   Contributing Factors. Career Move - Self-employment                                                                                                            437 non-null    object \n",
      " 8   Contributing Factors. Ill Health                                                                                                                               437 non-null    object \n",
      " 9   Contributing Factors. Maternity/Family                                                                                                                         437 non-null    object \n",
      " 10  Contributing Factors. Dissatisfaction                                                                                                                          437 non-null    object \n",
      " 11  Contributing Factors. Job Dissatisfaction                                                                                                                      437 non-null    object \n",
      " 12  Contributing Factors. Interpersonal Conflict                                                                                                                   437 non-null    object \n",
      " 13  Contributing Factors. Study                                                                                                                                    437 non-null    object \n",
      " 14  Contributing Factors. Travel                                                                                                                                   437 non-null    object \n",
      " 15  Contributing Factors. Other                                                                                                                                    437 non-null    object \n",
      " 16  Contributing Factors. NONE                                                                                                                                     437 non-null    object \n",
      " 17  Main Factor. Which of these was the main factor for leaving?                                                                                                   113 non-null    object \n",
      " 18  InstituteViews. Topic:1. I feel the senior leadership had a clear vision and direction                                                                         608 non-null    object \n",
      " 19  InstituteViews. Topic:2. I was given access to skills training to help me do my job better                                                                     613 non-null    object \n",
      " 20  InstituteViews. Topic:3. I was given adequate opportunities for personal development                                                                           610 non-null    object \n",
      " 21  InstituteViews. Topic:4. I was given adequate opportunities for promotion within %Institute]Q25LBL%                                                            608 non-null    object \n",
      " 22  InstituteViews. Topic:5. I felt the salary for the job was right for the responsibilities I had                                                                615 non-null    object \n",
      " 23  InstituteViews. Topic:6. The organisation recognised when staff did good work                                                                                  607 non-null    object \n",
      " 24  InstituteViews. Topic:7. Management was generally supportive of me                                                                                             614 non-null    object \n",
      " 25  InstituteViews. Topic:8. Management was generally supportive of my team                                                                                        608 non-null    object \n",
      " 26  InstituteViews. Topic:9. I was kept informed of the changes in the organisation which would affect me                                                          610 non-null    object \n",
      " 27  InstituteViews. Topic:10. Staff morale was positive within the Institute                                                                                       602 non-null    object \n",
      " 28  InstituteViews. Topic:11. If I had a workplace issue it was dealt with quickly                                                                                 601 non-null    object \n",
      " 29  InstituteViews. Topic:12. If I had a workplace issue it was dealt with efficiently                                                                             597 non-null    object \n",
      " 30  InstituteViews. Topic:13. If I had a workplace issue it was dealt with discreetly                                                                              601 non-null    object \n",
      " 31  WorkUnitViews. Topic:14. I was satisfied with the quality of the management and supervision within my work unit                                                609 non-null    object \n",
      " 32  WorkUnitViews. Topic:15. I worked well with my colleagues                                                                                                      605 non-null    object \n",
      " 33  WorkUnitViews. Topic:16. My job was challenging and interesting                                                                                                607 non-null    object \n",
      " 34  WorkUnitViews. Topic:17. I was encouraged to use my initiative in the course of my work                                                                        610 non-null    object \n",
      " 35  WorkUnitViews. Topic:18. I had sufficient contact with other people in my job                                                                                  613 non-null    object \n",
      " 36  WorkUnitViews. Topic:19. I was given adequate support and co-operation by my peers to enable me to do my job                                                   609 non-null    object \n",
      " 37  WorkUnitViews. Topic:20. I was able to use the full range of my skills in my job                                                                               609 non-null    object \n",
      " 38  WorkUnitViews. Topic:21. I was able to use the full range of my abilities in my job. ; Category:Level of Agreement; Question:YOUR VIEWS ABOUT YOUR WORK UNIT]  608 non-null    object \n",
      " 39  WorkUnitViews. Topic:22. I was able to use the full range of my knowledge in my job                                                                            608 non-null    object \n",
      " 40  WorkUnitViews. Topic:23. My job provided sufficient variety                                                                                                    611 non-null    object \n",
      " 41  WorkUnitViews. Topic:24. I was able to cope with the level of stress and pressure in my job                                                                    610 non-null    object \n",
      " 42  WorkUnitViews. Topic:25. My job allowed me to balance the demands of work and family to my satisfaction                                                        611 non-null    object \n",
      " 43  WorkUnitViews. Topic:26. My supervisor gave me adequate personal recognition and feedback on my performance                                                    606 non-null    object \n",
      " 44  WorkUnitViews. Topic:27. My working environment was satisfactory e.g. sufficient space, good lighting, suitable seating and working area                       610 non-null    object \n",
      " 45  WorkUnitViews. Topic:28. I was given the opportunity to mentor and coach others in order for me to pass on my skills and knowledge prior to my cessation date  609 non-null    object \n",
      " 46  WorkUnitViews. Topic:29. There was adequate communication between staff in my unit                                                                             603 non-null    object \n",
      " 47  WorkUnitViews. Topic:30. Staff morale was positive within my work unit                                                                                         606 non-null    object \n",
      " 48  Induction. Did you undertake Workplace Induction?                                                                                                              619 non-null    object \n",
      " 49  InductionInfo. Topic:Did you undertake a Corporate Induction?                                                                                                  432 non-null    object \n",
      " 50  InductionInfo. Topic:Did you undertake a Institute Induction?                                                                                                  483 non-null    object \n",
      " 51  InductionInfo. Topic: Did you undertake Team Induction?                                                                                                        440 non-null    object \n",
      " 52  InductionInfo. Face to Face Topic:Did you undertake a Corporate Induction; Category:How it was conducted?                                                      555 non-null    object \n",
      " 53  InductionInfo. On-line Topic:Did you undertake a Corporate Induction; Category:How it was conducted?                                                           555 non-null    object \n",
      " 54  InductionInfo. Induction Manual Topic:Did you undertake a Corporate Induction?                                                                                 555 non-null    object \n",
      " 55  InductionInfo. Face to Face Topic:Did you undertake a Institute Induction?                                                                                     530 non-null    object \n",
      " 56  InductionInfo. On-line Topic:Did you undertake a Institute Induction?                                                                                          555 non-null    object \n",
      " 57  InductionInfo. Induction Manual Topic:Did you undertake a Institute Induction?                                                                                 553 non-null    object \n",
      " 58  InductionInfo. Face to Face Topic: Did you undertake Team Induction; Category?                                                                                 555 non-null    object \n",
      " 59  InductionInfo. On-line Topic: Did you undertake Team Induction?process you undertook and how it was conducted.]                                                555 non-null    object \n",
      " 60  InductionInfo. Induction Manual Topic: Did you undertake Team Induction?                                                                                       555 non-null    object \n",
      " 61  Workplace. Topic:Did you and your Manager develop a Performance and Professional Development Plan (PPDP)?                                                      608 non-null    object \n",
      " 62  Workplace. Topic:Does your workplace promote a work culture free from all forms of unlawful discrimination?                                                    594 non-null    object \n",
      " 63  Workplace. Topic:Does your workplace promote and practice the principles of employment equity?                                                                 587 non-null    object \n",
      " 64  Workplace. Topic:Does your workplace value the diversity of its employees?                                                                                     586 non-null    object \n",
      " 65  Workplace. Topic:Would you recommend the Institute as an employer to others?                                                                                   581 non-null    object \n",
      " 66  Gender. What is your Gender?                                                                                                                                   596 non-null    object \n",
      " 67  CurrentAge. Current Age                                                                                                                                        596 non-null    object \n",
      " 68  Employment Type. Employment Type                                                                                                                               596 non-null    object \n",
      " 69  Classification. Classification                                                                                                                                 596 non-null    object \n",
      " 70  LengthofServiceOverall. Overall Length of Service at Institute (in years)                                                                                      596 non-null    object \n",
      " 71  LengthofServiceCurrent. Length of Service at current workplace (in years)                                                                                      596 non-null    object \n",
      "dtypes: float64(2), object(70)\n",
      "memory usage: 395.0+ KB\n"
     ]
    }
   ],
   "source": [
    "tafe.info()"
   ]
  },
  {
   "cell_type": "code",
   "execution_count": 8,
   "id": "5f0f54e4",
   "metadata": {},
   "outputs": [
    {
     "data": {
      "text/html": [
       "<div>\n",
       "<style scoped>\n",
       "    .dataframe tbody tr th:only-of-type {\n",
       "        vertical-align: middle;\n",
       "    }\n",
       "\n",
       "    .dataframe tbody tr th {\n",
       "        vertical-align: top;\n",
       "    }\n",
       "\n",
       "    .dataframe thead th {\n",
       "        text-align: right;\n",
       "    }\n",
       "</style>\n",
       "<table border=\"1\" class=\"dataframe\">\n",
       "  <thead>\n",
       "    <tr style=\"text-align: right;\">\n",
       "      <th></th>\n",
       "      <th>Record ID</th>\n",
       "      <th>Institute</th>\n",
       "      <th>WorkArea</th>\n",
       "      <th>CESSATION YEAR</th>\n",
       "      <th>Reason for ceasing employment</th>\n",
       "      <th>Contributing Factors. Career Move - Public Sector</th>\n",
       "      <th>Contributing Factors. Career Move - Private Sector</th>\n",
       "      <th>Contributing Factors. Career Move - Self-employment</th>\n",
       "      <th>Contributing Factors. Ill Health</th>\n",
       "      <th>Contributing Factors. Maternity/Family</th>\n",
       "      <th>...</th>\n",
       "      <th>Workplace. Topic:Does your workplace promote a work culture free from all forms of unlawful discrimination?</th>\n",
       "      <th>Workplace. Topic:Does your workplace promote and practice the principles of employment equity?</th>\n",
       "      <th>Workplace. Topic:Does your workplace value the diversity of its employees?</th>\n",
       "      <th>Workplace. Topic:Would you recommend the Institute as an employer to others?</th>\n",
       "      <th>Gender. What is your Gender?</th>\n",
       "      <th>CurrentAge. Current Age</th>\n",
       "      <th>Employment Type. Employment Type</th>\n",
       "      <th>Classification. Classification</th>\n",
       "      <th>LengthofServiceOverall. Overall Length of Service at Institute (in years)</th>\n",
       "      <th>LengthofServiceCurrent. Length of Service at current workplace (in years)</th>\n",
       "    </tr>\n",
       "  </thead>\n",
       "  <tbody>\n",
       "    <tr>\n",
       "      <th>0</th>\n",
       "      <td>6.341330e+17</td>\n",
       "      <td>Southern Queensland Institute of TAFE</td>\n",
       "      <td>Non-Delivery (corporate)</td>\n",
       "      <td>2010.0</td>\n",
       "      <td>Contract Expired</td>\n",
       "      <td>NaN</td>\n",
       "      <td>NaN</td>\n",
       "      <td>NaN</td>\n",
       "      <td>NaN</td>\n",
       "      <td>NaN</td>\n",
       "      <td>...</td>\n",
       "      <td>Yes</td>\n",
       "      <td>Yes</td>\n",
       "      <td>Yes</td>\n",
       "      <td>Yes</td>\n",
       "      <td>Female</td>\n",
       "      <td>26  30</td>\n",
       "      <td>Temporary Full-time</td>\n",
       "      <td>Administration (AO)</td>\n",
       "      <td>1-2</td>\n",
       "      <td>1-2</td>\n",
       "    </tr>\n",
       "    <tr>\n",
       "      <th>1</th>\n",
       "      <td>6.341337e+17</td>\n",
       "      <td>Mount Isa Institute of TAFE</td>\n",
       "      <td>Non-Delivery (corporate)</td>\n",
       "      <td>2010.0</td>\n",
       "      <td>Retirement</td>\n",
       "      <td>-</td>\n",
       "      <td>-</td>\n",
       "      <td>-</td>\n",
       "      <td>-</td>\n",
       "      <td>-</td>\n",
       "      <td>...</td>\n",
       "      <td>Yes</td>\n",
       "      <td>Yes</td>\n",
       "      <td>Yes</td>\n",
       "      <td>Yes</td>\n",
       "      <td>NaN</td>\n",
       "      <td>NaN</td>\n",
       "      <td>NaN</td>\n",
       "      <td>NaN</td>\n",
       "      <td>NaN</td>\n",
       "      <td>NaN</td>\n",
       "    </tr>\n",
       "    <tr>\n",
       "      <th>2</th>\n",
       "      <td>6.341388e+17</td>\n",
       "      <td>Mount Isa Institute of TAFE</td>\n",
       "      <td>Delivery (teaching)</td>\n",
       "      <td>2010.0</td>\n",
       "      <td>Retirement</td>\n",
       "      <td>-</td>\n",
       "      <td>-</td>\n",
       "      <td>-</td>\n",
       "      <td>-</td>\n",
       "      <td>-</td>\n",
       "      <td>...</td>\n",
       "      <td>Yes</td>\n",
       "      <td>Yes</td>\n",
       "      <td>Yes</td>\n",
       "      <td>Yes</td>\n",
       "      <td>NaN</td>\n",
       "      <td>NaN</td>\n",
       "      <td>NaN</td>\n",
       "      <td>NaN</td>\n",
       "      <td>NaN</td>\n",
       "      <td>NaN</td>\n",
       "    </tr>\n",
       "    <tr>\n",
       "      <th>3</th>\n",
       "      <td>6.341399e+17</td>\n",
       "      <td>Mount Isa Institute of TAFE</td>\n",
       "      <td>Non-Delivery (corporate)</td>\n",
       "      <td>2010.0</td>\n",
       "      <td>Resignation</td>\n",
       "      <td>-</td>\n",
       "      <td>-</td>\n",
       "      <td>-</td>\n",
       "      <td>-</td>\n",
       "      <td>-</td>\n",
       "      <td>...</td>\n",
       "      <td>Yes</td>\n",
       "      <td>Yes</td>\n",
       "      <td>Yes</td>\n",
       "      <td>Yes</td>\n",
       "      <td>NaN</td>\n",
       "      <td>NaN</td>\n",
       "      <td>NaN</td>\n",
       "      <td>NaN</td>\n",
       "      <td>NaN</td>\n",
       "      <td>NaN</td>\n",
       "    </tr>\n",
       "    <tr>\n",
       "      <th>4</th>\n",
       "      <td>6.341466e+17</td>\n",
       "      <td>Southern Queensland Institute of TAFE</td>\n",
       "      <td>Delivery (teaching)</td>\n",
       "      <td>2010.0</td>\n",
       "      <td>Resignation</td>\n",
       "      <td>-</td>\n",
       "      <td>Career Move - Private Sector</td>\n",
       "      <td>-</td>\n",
       "      <td>-</td>\n",
       "      <td>-</td>\n",
       "      <td>...</td>\n",
       "      <td>Yes</td>\n",
       "      <td>Yes</td>\n",
       "      <td>Yes</td>\n",
       "      <td>Yes</td>\n",
       "      <td>Male</td>\n",
       "      <td>41  45</td>\n",
       "      <td>Permanent Full-time</td>\n",
       "      <td>Teacher (including LVT)</td>\n",
       "      <td>3-4</td>\n",
       "      <td>3-4</td>\n",
       "    </tr>\n",
       "  </tbody>\n",
       "</table>\n",
       "<p>5 rows × 72 columns</p>\n",
       "</div>"
      ],
      "text/plain": [
       "      Record ID                              Institute  \\\n",
       "0  6.341330e+17  Southern Queensland Institute of TAFE   \n",
       "1  6.341337e+17            Mount Isa Institute of TAFE   \n",
       "2  6.341388e+17            Mount Isa Institute of TAFE   \n",
       "3  6.341399e+17            Mount Isa Institute of TAFE   \n",
       "4  6.341466e+17  Southern Queensland Institute of TAFE   \n",
       "\n",
       "                   WorkArea  CESSATION YEAR Reason for ceasing employment  \\\n",
       "0  Non-Delivery (corporate)          2010.0              Contract Expired   \n",
       "1  Non-Delivery (corporate)          2010.0                    Retirement   \n",
       "2       Delivery (teaching)          2010.0                    Retirement   \n",
       "3  Non-Delivery (corporate)          2010.0                   Resignation   \n",
       "4       Delivery (teaching)          2010.0                   Resignation   \n",
       "\n",
       "  Contributing Factors. Career Move - Public Sector   \\\n",
       "0                                                NaN   \n",
       "1                                                  -   \n",
       "2                                                  -   \n",
       "3                                                  -   \n",
       "4                                                  -   \n",
       "\n",
       "  Contributing Factors. Career Move - Private Sector   \\\n",
       "0                                                NaN    \n",
       "1                                                  -    \n",
       "2                                                  -    \n",
       "3                                                  -    \n",
       "4                       Career Move - Private Sector    \n",
       "\n",
       "  Contributing Factors. Career Move - Self-employment  \\\n",
       "0                                                NaN    \n",
       "1                                                  -    \n",
       "2                                                  -    \n",
       "3                                                  -    \n",
       "4                                                  -    \n",
       "\n",
       "  Contributing Factors. Ill Health Contributing Factors. Maternity/Family  \\\n",
       "0                              NaN                                    NaN   \n",
       "1                                -                                      -   \n",
       "2                                -                                      -   \n",
       "3                                -                                      -   \n",
       "4                                -                                      -   \n",
       "\n",
       "   ...  \\\n",
       "0  ...   \n",
       "1  ...   \n",
       "2  ...   \n",
       "3  ...   \n",
       "4  ...   \n",
       "\n",
       "  Workplace. Topic:Does your workplace promote a work culture free from all forms of unlawful discrimination?  \\\n",
       "0                                                Yes                                                            \n",
       "1                                                Yes                                                            \n",
       "2                                                Yes                                                            \n",
       "3                                                Yes                                                            \n",
       "4                                                Yes                                                            \n",
       "\n",
       "  Workplace. Topic:Does your workplace promote and practice the principles of employment equity?  \\\n",
       "0                                                Yes                                               \n",
       "1                                                Yes                                               \n",
       "2                                                Yes                                               \n",
       "3                                                Yes                                               \n",
       "4                                                Yes                                               \n",
       "\n",
       "  Workplace. Topic:Does your workplace value the diversity of its employees?  \\\n",
       "0                                                Yes                           \n",
       "1                                                Yes                           \n",
       "2                                                Yes                           \n",
       "3                                                Yes                           \n",
       "4                                                Yes                           \n",
       "\n",
       "  Workplace. Topic:Would you recommend the Institute as an employer to others?  \\\n",
       "0                                                Yes                             \n",
       "1                                                Yes                             \n",
       "2                                                Yes                             \n",
       "3                                                Yes                             \n",
       "4                                                Yes                             \n",
       "\n",
       "  Gender. What is your Gender? CurrentAge. Current Age  \\\n",
       "0                       Female                  26  30   \n",
       "1                          NaN                     NaN   \n",
       "2                          NaN                     NaN   \n",
       "3                          NaN                     NaN   \n",
       "4                         Male                  41  45   \n",
       "\n",
       "  Employment Type. Employment Type Classification. Classification  \\\n",
       "0              Temporary Full-time            Administration (AO)   \n",
       "1                              NaN                            NaN   \n",
       "2                              NaN                            NaN   \n",
       "3                              NaN                            NaN   \n",
       "4              Permanent Full-time        Teacher (including LVT)   \n",
       "\n",
       "  LengthofServiceOverall. Overall Length of Service at Institute (in years)  \\\n",
       "0                                                1-2                          \n",
       "1                                                NaN                          \n",
       "2                                                NaN                          \n",
       "3                                                NaN                          \n",
       "4                                                3-4                          \n",
       "\n",
       "  LengthofServiceCurrent. Length of Service at current workplace (in years)  \n",
       "0                                                1-2                         \n",
       "1                                                NaN                         \n",
       "2                                                NaN                         \n",
       "3                                                NaN                         \n",
       "4                                                3-4                         \n",
       "\n",
       "[5 rows x 72 columns]"
      ]
     },
     "execution_count": 8,
     "metadata": {},
     "output_type": "execute_result"
    }
   ],
   "source": [
    "tafe.head()"
   ]
  },
  {
   "cell_type": "markdown",
   "id": "4fff844a",
   "metadata": {},
   "source": [
    "The TAFE dataset is composed of 702 entries, each with 72 different columns. Again, no dictionary was provided with the dataset, so we'll need to use common sense to identify the meaning of each column. These are the relevant columns:\n",
    "\n",
    "|Name|Type|Description|\n",
    "|:--|:--|:--|\n",
    "|Record ID|Numeric|A unique participant identifier|\n",
    "|CESSATION YEAR|numerical|Year of the person's termination of employment|\n",
    "|Reason for ceasing employment\t|categorical\t|The reason for the person's termination of employment|\n",
    "|Contributing Factors. Dissatisfaction\t|categorical\t|Did the person's employment end due to dissatisfaction|\n",
    "|Contributing Factors. Job Dissatisfaction\t|categorical\t|Did the person's employment end due to job dissatisfaction|\n",
    "|CurrentAge. Current Age\t|categorical|\tThe person's age bracket at the time of filling the survey|\n",
    "|LengthofServiceOverall. Overall Length of Service at Institute (in years)\t|categorical\t|Bracket of overall Length of Service at Institute (in years)|\n",
    "\n",
    "Let's look for missing values in the relevant columns we've identified above:"
   ]
  },
  {
   "cell_type": "code",
   "execution_count": 9,
   "id": "4806e0fb",
   "metadata": {},
   "outputs": [
    {
     "data": {
      "text/plain": [
       "Record ID                                                                      0\n",
       "CESSATION YEAR                                                                 7\n",
       "Reason for ceasing employment                                                  1\n",
       "Contributing Factors. Dissatisfaction                                        265\n",
       "Contributing Factors. Job Dissatisfaction                                    265\n",
       "CurrentAge. Current Age                                                      106\n",
       "LengthofServiceOverall. Overall Length of Service at Institute (in years)    106\n",
       "dtype: int64"
      ]
     },
     "execution_count": 9,
     "metadata": {},
     "output_type": "execute_result"
    }
   ],
   "source": [
    "tafe_relevant_cols = ['Record ID',\n",
    "                      'CESSATION YEAR',\n",
    "                      'Reason for ceasing employment',\n",
    "                      'Contributing Factors. Dissatisfaction',\n",
    "                      'Contributing Factors. Job Dissatisfaction',\n",
    "                      'CurrentAge. Current Age',\n",
    "                      'LengthofServiceOverall. Overall Length of Service at Institute (in years)']\n",
    "\n",
    "tafe[tafe_relevant_cols].isnull().sum()"
   ]
  },
  {
   "cell_type": "markdown",
   "id": "98f7b483",
   "metadata": {},
   "source": [
    "Unlike the DETE survey, the missing values here are proper 'NaN' values. There's quite a few of them, however, since we're only interested in employments that ended due to **resignation**, let's remove all the entries that aren't due to resignation, and check again:"
   ]
  },
  {
   "cell_type": "code",
   "execution_count": 10,
   "id": "245cae2c",
   "metadata": {},
   "outputs": [
    {
     "data": {
      "text/plain": [
       "Record ID                                                                     0\n",
       "CESSATION YEAR                                                                5\n",
       "Reason for ceasing employment                                                 0\n",
       "Contributing Factors. Dissatisfaction                                         8\n",
       "Contributing Factors. Job Dissatisfaction                                     8\n",
       "CurrentAge. Current Age                                                      50\n",
       "LengthofServiceOverall. Overall Length of Service at Institute (in years)    50\n",
       "dtype: int64"
      ]
     },
     "execution_count": 10,
     "metadata": {},
     "output_type": "execute_result"
    }
   ],
   "source": [
    "tafe[tafe['Reason for ceasing employment'] == 'Resignation'][tafe_relevant_cols].isnull().sum()"
   ]
  },
  {
   "cell_type": "markdown",
   "id": "0f6ead96",
   "metadata": {},
   "source": [
    "Okay, there's significantly less missing values for these entries, but we still need to handle them."
   ]
  },
  {
   "cell_type": "markdown",
   "id": "810140bb",
   "metadata": {},
   "source": [
    "## Data Cleaning"
   ]
  },
  {
   "cell_type": "markdown",
   "id": "e1538fe0",
   "metadata": {},
   "source": [
    "Next, we'll clean and combine both datasets into one easy-to-work-with dataset. We'll need to change the 'Not Stated' values in the DETE survey to proper NaNs, get rid of irrelevant columns and merge columns from both surveys that have similar data, but with different names/categories."
   ]
  },
  {
   "cell_type": "code",
   "execution_count": 11,
   "id": "91f28095",
   "metadata": {},
   "outputs": [
    {
     "data": {
      "text/plain": [
       "Index(['id', 'separation_type', 'cease_date', 'dete_start_date',\n",
       "       'role_start_date', 'position', 'classification', 'region',\n",
       "       'business_unit', 'employment_status', 'career_move_to_public_sector',\n",
       "       'career_move_to_private_sector', 'interpersonal_conflicts',\n",
       "       'job_dissatisfaction', 'dissatisfaction_with_the_department',\n",
       "       'physical_work_environment', 'lack_of_recognition',\n",
       "       'lack_of_job_security', 'work_location', 'employment_conditions',\n",
       "       'maternity/family', 'relocation', 'study/travel', 'ill_health',\n",
       "       'traumatic_incident', 'work_life_balance', 'workload',\n",
       "       'none_of_the_above', 'gender', 'age', 'aboriginal', 'torres_strait',\n",
       "       'south_sea', 'disability', 'nesb'],\n",
       "      dtype='object')"
      ]
     },
     "execution_count": 11,
     "metadata": {},
     "output_type": "execute_result"
    }
   ],
   "source": [
    "# Re-reading the DETE survey CSV file again, this time reading the 'Not Stated' values as NaN:\n",
    "dete = pd.read_csv('dete_survey.csv', na_values='Not Stated')\n",
    "\n",
    "# Dropping the immediately irrelevant columns from both data frames:\n",
    "dete_updated = dete.drop(dete.columns[28:49], axis=1)\n",
    "tafe_updated = tafe.drop(tafe.columns[17:66], axis=1)\n",
    "\n",
    "# Standardizing the columns names, to let us combine both datasets\n",
    "dete_updated.columns = dete_updated.columns.str.lower().str.strip().str.replace(' ', '_').str.replace('separationtype', 'separation_type')\n",
    "dete_updated.columns"
   ]
  },
  {
   "cell_type": "code",
   "execution_count": 12,
   "id": "85c9d89c",
   "metadata": {},
   "outputs": [
    {
     "data": {
      "text/plain": [
       "Index(['id', 'Institute', 'WorkArea', 'cease_date', 'separation_type',\n",
       "       'Contributing Factors. Career Move - Public Sector ',\n",
       "       'Contributing Factors. Career Move - Private Sector ',\n",
       "       'Contributing Factors. Career Move - Self-employment',\n",
       "       'Contributing Factors. Ill Health',\n",
       "       'Contributing Factors. Maternity/Family',\n",
       "       'Contributing Factors. Dissatisfaction',\n",
       "       'Contributing Factors. Job Dissatisfaction',\n",
       "       'Contributing Factors. Interpersonal Conflict',\n",
       "       'Contributing Factors. Study', 'Contributing Factors. Travel',\n",
       "       'Contributing Factors. Other', 'Contributing Factors. NONE', 'gender',\n",
       "       'age', 'employment_status', 'position', 'institute_service',\n",
       "       'role_service'],\n",
       "      dtype='object')"
      ]
     },
     "execution_count": 12,
     "metadata": {},
     "output_type": "execute_result"
    }
   ],
   "source": [
    "# Renaming the TAFE survey columns to match the DETE survey ones\n",
    "tafe_cols_remane = {\n",
    "    'Record ID': 'id',\n",
    "    'CESSATION YEAR' : 'cease_date',\n",
    "    'Reason for ceasing employment' : 'separation_type',\n",
    "    'Gender. What is your Gender?' : 'gender',\n",
    "    'CurrentAge. Current Age' : 'age',\n",
    "    'Employment Type. Employment Type' : 'employment_status',\n",
    "    'Classification. Classification' : 'position',\n",
    "    'LengthofServiceOverall. Overall Length of Service at Institute (in years)' : 'institute_service',\n",
    "    'LengthofServiceCurrent. Length of Service at current workplace (in years)' : 'role_service'\n",
    "}\n",
    "\n",
    "tafe_updated = tafe_updated.rename(tafe_cols_remane, axis=1)\n",
    "tafe_updated.columns"
   ]
  },
  {
   "cell_type": "markdown",
   "id": "40844dd5",
   "metadata": {},
   "source": [
    "## Filtering"
   ]
  },
  {
   "cell_type": "markdown",
   "id": "c7dacbbe",
   "metadata": {},
   "source": [
    "Since we're only interested in employees who resigned, let's filter out all other separation reasons.\n",
    "\n",
    "'dete_resignations' will hold only the DETE entries where the separation was due to resignation:"
   ]
  },
  {
   "cell_type": "code",
   "execution_count": 13,
   "id": "a36c7909",
   "metadata": {},
   "outputs": [
    {
     "data": {
      "text/plain": [
       "separation_type\n",
       "Age Retirement                          285\n",
       "Resignation-Other reasons               150\n",
       "Resignation-Other employer               91\n",
       "Resignation-Move overseas/interstate     70\n",
       "Voluntary Early Retirement (VER)         67\n",
       "Ill Health Retirement                    61\n",
       "Other                                    49\n",
       "Contract Expired                         34\n",
       "Termination                              15\n",
       "Name: count, dtype: int64"
      ]
     },
     "execution_count": 13,
     "metadata": {},
     "output_type": "execute_result"
    }
   ],
   "source": [
    "dete_updated['separation_type'].value_counts()"
   ]
  },
  {
   "cell_type": "code",
   "execution_count": 14,
   "id": "d3195f9f",
   "metadata": {},
   "outputs": [],
   "source": [
    "dete_resignation = ['Resignation-Other reasons', 'Resignation-Other employer', 'Resignation-Move overseas/interstate']\n",
    "dete_resignation = dete_updated.copy()[dete_updated['separation_type'].isin(dete_resignation)]"
   ]
  },
  {
   "cell_type": "markdown",
   "id": "696c5378",
   "metadata": {},
   "source": [
    "Similarly, 'tafe_resignations' will hold the TAFE resignation entries:"
   ]
  },
  {
   "cell_type": "code",
   "execution_count": 15,
   "id": "186e4646",
   "metadata": {},
   "outputs": [
    {
     "data": {
      "text/plain": [
       "separation_type\n",
       "Resignation                 340\n",
       "Contract Expired            127\n",
       "Retrenchment/ Redundancy    104\n",
       "Retirement                   82\n",
       "Transfer                     25\n",
       "Termination                  23\n",
       "Name: count, dtype: int64"
      ]
     },
     "execution_count": 15,
     "metadata": {},
     "output_type": "execute_result"
    }
   ],
   "source": [
    "tafe_updated['separation_type'].value_counts()"
   ]
  },
  {
   "cell_type": "code",
   "execution_count": 16,
   "id": "27e5c1d6",
   "metadata": {},
   "outputs": [],
   "source": [
    "tafe_resignation = tafe_updated[tafe_updated['separation_type'] == 'Resignation']"
   ]
  },
  {
   "cell_type": "markdown",
   "id": "5986e83b",
   "metadata": {},
   "source": [
    "## Data Verification"
   ]
  },
  {
   "cell_type": "markdown",
   "id": "d6db7fe0",
   "metadata": {},
   "source": [
    "We'll run some sanity tests, to make sure that the majority of the data is valid. Starting with the DETE start and end years, let's make sure that the end date is no later than the current date and that the start date isn't too far in the past."
   ]
  },
  {
   "cell_type": "code",
   "execution_count": 17,
   "id": "b931f256",
   "metadata": {},
   "outputs": [
    {
     "data": {
      "text/plain": [
       "dete_start_date\n",
       "1963.0     1\n",
       "1971.0     1\n",
       "1972.0     1\n",
       "1973.0     1\n",
       "1974.0     2\n",
       "1975.0     1\n",
       "1976.0     2\n",
       "1977.0     1\n",
       "1980.0     5\n",
       "1982.0     1\n",
       "1983.0     2\n",
       "1984.0     1\n",
       "1985.0     3\n",
       "1986.0     3\n",
       "1987.0     1\n",
       "1988.0     4\n",
       "1989.0     4\n",
       "1990.0     5\n",
       "1991.0     4\n",
       "1992.0     6\n",
       "1993.0     5\n",
       "1994.0     6\n",
       "1995.0     4\n",
       "1996.0     6\n",
       "1997.0     5\n",
       "1998.0     6\n",
       "1999.0     8\n",
       "2000.0     9\n",
       "2001.0     3\n",
       "2002.0     6\n",
       "2003.0     6\n",
       "2004.0    14\n",
       "2005.0    15\n",
       "2006.0    13\n",
       "2007.0    21\n",
       "2008.0    22\n",
       "2009.0    13\n",
       "2010.0    17\n",
       "2011.0    24\n",
       "2012.0    21\n",
       "2013.0    10\n",
       "Name: count, dtype: int64"
      ]
     },
     "execution_count": 17,
     "metadata": {},
     "output_type": "execute_result"
    }
   ],
   "source": [
    "dete_resignation['dete_start_date'].value_counts().sort_index()"
   ]
  },
  {
   "cell_type": "code",
   "execution_count": 18,
   "id": "98c6ee7e",
   "metadata": {},
   "outputs": [
    {
     "data": {
      "text/plain": [
       "cease_date\n",
       "2006.0      1\n",
       "2010.0      2\n",
       "2012.0    129\n",
       "2013.0    146\n",
       "2014.0     22\n",
       "Name: count, dtype: int64"
      ]
     },
     "execution_count": 18,
     "metadata": {},
     "output_type": "execute_result"
    }
   ],
   "source": [
    "dete_cease_year = dete_resignation['cease_date'].str.split('/').str.get(-1).astype(float)\n",
    "dete_cease_year.value_counts().sort_index()"
   ]
  },
  {
   "cell_type": "code",
   "execution_count": 19,
   "id": "aaa3ba5c",
   "metadata": {},
   "outputs": [
    {
     "data": {
      "text/plain": [
       "cease_date\n",
       "2009.0      2\n",
       "2010.0     68\n",
       "2011.0    116\n",
       "2012.0     94\n",
       "2013.0     55\n",
       "Name: count, dtype: int64"
      ]
     },
     "execution_count": 19,
     "metadata": {},
     "output_type": "execute_result"
    }
   ],
   "source": [
    "tafe_resignation['cease_date'].value_counts().sort_index()"
   ]
  },
  {
   "cell_type": "markdown",
   "id": "911ea33e",
   "metadata": {},
   "source": [
    "From the above we see that the years data is fine. All the year values are valid."
   ]
  },
  {
   "cell_type": "markdown",
   "id": "310c7f12",
   "metadata": {},
   "source": [
    "## Get the DETE years in service info"
   ]
  },
  {
   "cell_type": "code",
   "execution_count": 20,
   "id": "ac98ec51",
   "metadata": {},
   "outputs": [
    {
     "data": {
      "text/plain": [
       "institute_service\n",
       "Less than 1 year      73\n",
       "1-2                   64\n",
       "3-4                   63\n",
       "NaN                   50\n",
       "5-6                   33\n",
       "11-20                 26\n",
       "7-10                  21\n",
       "More than 20 years    10\n",
       "Name: count, dtype: int64"
      ]
     },
     "execution_count": 20,
     "metadata": {},
     "output_type": "execute_result"
    }
   ],
   "source": [
    "# TAFEer's years of service.\n",
    "tafe_resignation['institute_service'].value_counts(dropna=False)"
   ]
  },
  {
   "cell_type": "code",
   "execution_count": 21,
   "id": "575c8079",
   "metadata": {},
   "outputs": [
    {
     "data": {
      "text/plain": [
       "institute_service\n",
       "0.0     20\n",
       "1.0     22\n",
       "2.0     14\n",
       "3.0     20\n",
       "4.0     16\n",
       "5.0     23\n",
       "6.0     17\n",
       "7.0     13\n",
       "8.0      8\n",
       "9.0     14\n",
       "10.0     6\n",
       "11.0     4\n",
       "12.0     6\n",
       "13.0     8\n",
       "14.0     6\n",
       "15.0     7\n",
       "16.0     5\n",
       "17.0     6\n",
       "18.0     5\n",
       "19.0     3\n",
       "20.0     7\n",
       "21.0     3\n",
       "22.0     6\n",
       "23.0     4\n",
       "24.0     4\n",
       "25.0     2\n",
       "26.0     2\n",
       "27.0     1\n",
       "28.0     2\n",
       "29.0     1\n",
       "30.0     2\n",
       "31.0     1\n",
       "32.0     3\n",
       "33.0     1\n",
       "34.0     1\n",
       "35.0     1\n",
       "36.0     2\n",
       "38.0     1\n",
       "39.0     3\n",
       "41.0     1\n",
       "42.0     1\n",
       "49.0     1\n",
       "Name: count, dtype: int64"
      ]
     },
     "execution_count": 21,
     "metadata": {},
     "output_type": "execute_result"
    }
   ],
   "source": [
    "dete_resignation['institute_service'] = dete_cease_year - dete_resignation['dete_start_date']\n",
    "dete_resignation['institute_service'].value_counts().sort_index()"
   ]
  },
  {
   "cell_type": "markdown",
   "id": "d3e07b55",
   "metadata": {},
   "source": [
    "We've added a new column called 'institute_service' which holds the number of years in service for each person on the survey."
   ]
  },
  {
   "cell_type": "markdown",
   "id": "b8e871fe",
   "metadata": {},
   "source": [
    "## Identifying Dissatisfied Employees"
   ]
  },
  {
   "cell_type": "markdown",
   "id": "94226507",
   "metadata": {},
   "source": [
    "We'll use the columns we've already identified from each survey to categorise employees as dissatisfied:\n",
    "\n",
    "**DETE survey**\n",
    "\n",
    "- job_dissatisfaction\n",
    "\n",
    "- dissatisfaction_with_the_department\n",
    "\n",
    "- physical_work_environment\n",
    "\n",
    "- lack_of_recognition\n",
    "\n",
    "- lack_of_job_security\n",
    "\n",
    "- work_location\n",
    "\n",
    "- employment_conditions\n",
    "\n",
    "- work_life_balance\n",
    "\n",
    "- workload\n",
    "\n",
    "**TAFE survey**\n",
    "\n",
    "- Contributing Factors. Dissatisfaction\n",
    "\n",
    "- Contributing Factors. Job Dissatisfaction\n",
    "\n",
    "Let's create a \"dissatisfied\" column. If an employee indicated any of the above factors as contributing to their resignation, we'll mark them as dissatisfied. But first, to standardise the values, we'll convert the string values in tafe_resignations from strings to booleans:"
   ]
  },
  {
   "cell_type": "code",
   "execution_count": 22,
   "id": "ec866b7b",
   "metadata": {},
   "outputs": [
    {
     "data": {
      "text/plain": [
       "Contributing Factors. Dissatisfaction\n",
       "-                                         277\n",
       "Contributing Factors. Dissatisfaction      55\n",
       "NaN                                         8\n",
       "Name: count, dtype: int64"
      ]
     },
     "execution_count": 22,
     "metadata": {},
     "output_type": "execute_result"
    }
   ],
   "source": [
    "tafe_resignation['Contributing Factors. Dissatisfaction'].value_counts(dropna=False)"
   ]
  },
  {
   "cell_type": "code",
   "execution_count": 23,
   "id": "ca09f790",
   "metadata": {},
   "outputs": [
    {
     "data": {
      "text/plain": [
       "Contributing Factors. Job Dissatisfaction\n",
       "-                      270\n",
       "Job Dissatisfaction     62\n",
       "NaN                      8\n",
       "Name: count, dtype: int64"
      ]
     },
     "execution_count": 23,
     "metadata": {},
     "output_type": "execute_result"
    }
   ],
   "source": [
    "tafe_resignation['Contributing Factors. Job Dissatisfaction'].value_counts(dropna=False)"
   ]
  },
  {
   "cell_type": "code",
   "execution_count": 24,
   "id": "d7a05bd9",
   "metadata": {},
   "outputs": [],
   "source": [
    "# Converts string values to boolean, by this map:\n",
    "# NaN -> np.nan\n",
    "# '-' -> False\n",
    "# Any other value -> True\n",
    "\n",
    "def update_vals(val):\n",
    "    if pd.isnull(val):\n",
    "        return np.nan\n",
    "    return val != '-'\n",
    "\n",
    "tafe_resignation_copy = tafe_resignation.copy()\n",
    "tafe_resignation_copy[['Contributing Factors. Dissatisfaction', 'Contributing Factors. Job Dissatisfaction']] = tafe_resignation_copy[['Contributing Factors. Dissatisfaction', 'Contributing Factors. Job Dissatisfaction']].applymap(update_vals)"
   ]
  },
  {
   "cell_type": "code",
   "execution_count": 25,
   "id": "482cec8e",
   "metadata": {},
   "outputs": [
    {
     "data": {
      "text/plain": [
       "Contributing Factors. Dissatisfaction\n",
       "False    277\n",
       "True      55\n",
       "NaN        8\n",
       "Name: count, dtype: int64"
      ]
     },
     "execution_count": 25,
     "metadata": {},
     "output_type": "execute_result"
    }
   ],
   "source": [
    "tafe_resignation_copy['Contributing Factors. Dissatisfaction'].value_counts(dropna=False)"
   ]
  },
  {
   "cell_type": "code",
   "execution_count": 26,
   "id": "5beff761",
   "metadata": {},
   "outputs": [
    {
     "data": {
      "text/plain": [
       "Contributing Factors. Job Dissatisfaction\n",
       "False    270\n",
       "True      62\n",
       "NaN        8\n",
       "Name: count, dtype: int64"
      ]
     },
     "execution_count": 26,
     "metadata": {},
     "output_type": "execute_result"
    }
   ],
   "source": [
    "tafe_resignation_copy['Contributing Factors. Job Dissatisfaction'].value_counts(dropna=False)"
   ]
  },
  {
   "cell_type": "markdown",
   "id": "e54ba9c2",
   "metadata": {},
   "source": [
    "Now we're ready to add the new column to each of the datasets:"
   ]
  },
  {
   "cell_type": "code",
   "execution_count": 27,
   "id": "f4fccc20",
   "metadata": {},
   "outputs": [],
   "source": [
    "dete_dissatisfaction_cols = ['job_dissatisfaction',\n",
    "'dissatisfaction_with_the_department',\n",
    "'physical_work_environment',\n",
    "'lack_of_recognition',\n",
    "'lack_of_job_security',\n",
    "'work_location',\n",
    "'employment_conditions',\n",
    "'work_life_balance',\n",
    "'workload']\n",
    "\n",
    "tafe_dissatisfaction_cols = ['Contributing Factors. Dissatisfaction',\n",
    "                            'Contributing Factors. Job Dissatisfaction']\n",
    "\n",
    "tafe_resignation_copy['dissatisfied'] = tafe_resignation_copy[tafe_dissatisfaction_cols].any(axis=1, skipna=False)\n",
    "dete_resignation['dissatisfied'] = dete_resignation[dete_dissatisfaction_cols].any(axis=1, skipna=False)"
   ]
  },
  {
   "cell_type": "markdown",
   "id": "17ae29d7",
   "metadata": {},
   "source": [
    "## Combine the Data"
   ]
  },
  {
   "cell_type": "markdown",
   "id": "01407254",
   "metadata": {},
   "source": [
    "As a last step before merging both datasets we'll add a column to each dataframe that will allow us to easily distinguish between the two:"
   ]
  },
  {
   "cell_type": "code",
   "execution_count": 28,
   "id": "40feec55",
   "metadata": {},
   "outputs": [],
   "source": [
    "dete_resignation['institute'] = 'DETE'\n",
    "tafe_resignation_copy['institute'] = 'TAFE'"
   ]
  },
  {
   "cell_type": "code",
   "execution_count": 29,
   "id": "3c74d0f8",
   "metadata": {},
   "outputs": [
    {
     "data": {
      "text/html": [
       "<div>\n",
       "<style scoped>\n",
       "    .dataframe tbody tr th:only-of-type {\n",
       "        vertical-align: middle;\n",
       "    }\n",
       "\n",
       "    .dataframe tbody tr th {\n",
       "        vertical-align: top;\n",
       "    }\n",
       "\n",
       "    .dataframe thead th {\n",
       "        text-align: right;\n",
       "    }\n",
       "</style>\n",
       "<table border=\"1\" class=\"dataframe\">\n",
       "  <thead>\n",
       "    <tr style=\"text-align: right;\">\n",
       "      <th></th>\n",
       "      <th>id</th>\n",
       "      <th>separation_type</th>\n",
       "      <th>cease_date</th>\n",
       "      <th>position</th>\n",
       "      <th>employment_status</th>\n",
       "      <th>gender</th>\n",
       "      <th>age</th>\n",
       "      <th>institute_service</th>\n",
       "      <th>dissatisfied</th>\n",
       "      <th>institute</th>\n",
       "    </tr>\n",
       "  </thead>\n",
       "  <tbody>\n",
       "    <tr>\n",
       "      <th>0</th>\n",
       "      <td>4.000000e+00</td>\n",
       "      <td>Resignation-Other reasons</td>\n",
       "      <td>05/2012</td>\n",
       "      <td>Teacher</td>\n",
       "      <td>Permanent Full-time</td>\n",
       "      <td>Female</td>\n",
       "      <td>36-40</td>\n",
       "      <td>7.0</td>\n",
       "      <td>False</td>\n",
       "      <td>DETE</td>\n",
       "    </tr>\n",
       "    <tr>\n",
       "      <th>1</th>\n",
       "      <td>6.000000e+00</td>\n",
       "      <td>Resignation-Other reasons</td>\n",
       "      <td>05/2012</td>\n",
       "      <td>Guidance Officer</td>\n",
       "      <td>Permanent Full-time</td>\n",
       "      <td>Female</td>\n",
       "      <td>41-45</td>\n",
       "      <td>18.0</td>\n",
       "      <td>True</td>\n",
       "      <td>DETE</td>\n",
       "    </tr>\n",
       "    <tr>\n",
       "      <th>2</th>\n",
       "      <td>9.000000e+00</td>\n",
       "      <td>Resignation-Other reasons</td>\n",
       "      <td>07/2012</td>\n",
       "      <td>Teacher</td>\n",
       "      <td>Permanent Full-time</td>\n",
       "      <td>Female</td>\n",
       "      <td>31-35</td>\n",
       "      <td>3.0</td>\n",
       "      <td>False</td>\n",
       "      <td>DETE</td>\n",
       "    </tr>\n",
       "    <tr>\n",
       "      <th>3</th>\n",
       "      <td>1.000000e+01</td>\n",
       "      <td>Resignation-Other employer</td>\n",
       "      <td>2012</td>\n",
       "      <td>Teacher Aide</td>\n",
       "      <td>Permanent Part-time</td>\n",
       "      <td>Female</td>\n",
       "      <td>46-50</td>\n",
       "      <td>15.0</td>\n",
       "      <td>True</td>\n",
       "      <td>DETE</td>\n",
       "    </tr>\n",
       "    <tr>\n",
       "      <th>4</th>\n",
       "      <td>1.200000e+01</td>\n",
       "      <td>Resignation-Move overseas/interstate</td>\n",
       "      <td>2012</td>\n",
       "      <td>Teacher</td>\n",
       "      <td>Permanent Full-time</td>\n",
       "      <td>Male</td>\n",
       "      <td>31-35</td>\n",
       "      <td>3.0</td>\n",
       "      <td>False</td>\n",
       "      <td>DETE</td>\n",
       "    </tr>\n",
       "    <tr>\n",
       "      <th>...</th>\n",
       "      <td>...</td>\n",
       "      <td>...</td>\n",
       "      <td>...</td>\n",
       "      <td>...</td>\n",
       "      <td>...</td>\n",
       "      <td>...</td>\n",
       "      <td>...</td>\n",
       "      <td>...</td>\n",
       "      <td>...</td>\n",
       "      <td>...</td>\n",
       "    </tr>\n",
       "    <tr>\n",
       "      <th>646</th>\n",
       "      <td>6.350660e+17</td>\n",
       "      <td>Resignation</td>\n",
       "      <td>2013.0</td>\n",
       "      <td>Operational (OO)</td>\n",
       "      <td>Temporary Full-time</td>\n",
       "      <td>Male</td>\n",
       "      <td>21  25</td>\n",
       "      <td>5-6</td>\n",
       "      <td>False</td>\n",
       "      <td>TAFE</td>\n",
       "    </tr>\n",
       "    <tr>\n",
       "      <th>647</th>\n",
       "      <td>6.350668e+17</td>\n",
       "      <td>Resignation</td>\n",
       "      <td>2013.0</td>\n",
       "      <td>Teacher (including LVT)</td>\n",
       "      <td>Temporary Full-time</td>\n",
       "      <td>Male</td>\n",
       "      <td>51-55</td>\n",
       "      <td>1-2</td>\n",
       "      <td>False</td>\n",
       "      <td>TAFE</td>\n",
       "    </tr>\n",
       "    <tr>\n",
       "      <th>648</th>\n",
       "      <td>6.350677e+17</td>\n",
       "      <td>Resignation</td>\n",
       "      <td>2013.0</td>\n",
       "      <td>NaN</td>\n",
       "      <td>NaN</td>\n",
       "      <td>NaN</td>\n",
       "      <td>NaN</td>\n",
       "      <td>NaN</td>\n",
       "      <td>False</td>\n",
       "      <td>TAFE</td>\n",
       "    </tr>\n",
       "    <tr>\n",
       "      <th>649</th>\n",
       "      <td>6.350704e+17</td>\n",
       "      <td>Resignation</td>\n",
       "      <td>2013.0</td>\n",
       "      <td>Teacher (including LVT)</td>\n",
       "      <td>Permanent Full-time</td>\n",
       "      <td>Female</td>\n",
       "      <td>51-55</td>\n",
       "      <td>5-6</td>\n",
       "      <td>False</td>\n",
       "      <td>TAFE</td>\n",
       "    </tr>\n",
       "    <tr>\n",
       "      <th>650</th>\n",
       "      <td>6.350730e+17</td>\n",
       "      <td>Resignation</td>\n",
       "      <td>2013.0</td>\n",
       "      <td>Administration (AO)</td>\n",
       "      <td>Contract/casual</td>\n",
       "      <td>Female</td>\n",
       "      <td>26  30</td>\n",
       "      <td>3-4</td>\n",
       "      <td>False</td>\n",
       "      <td>TAFE</td>\n",
       "    </tr>\n",
       "  </tbody>\n",
       "</table>\n",
       "<p>651 rows × 10 columns</p>\n",
       "</div>"
      ],
      "text/plain": [
       "               id                       separation_type cease_date  \\\n",
       "0    4.000000e+00             Resignation-Other reasons    05/2012   \n",
       "1    6.000000e+00             Resignation-Other reasons    05/2012   \n",
       "2    9.000000e+00             Resignation-Other reasons    07/2012   \n",
       "3    1.000000e+01            Resignation-Other employer       2012   \n",
       "4    1.200000e+01  Resignation-Move overseas/interstate       2012   \n",
       "..            ...                                   ...        ...   \n",
       "646  6.350660e+17                           Resignation     2013.0   \n",
       "647  6.350668e+17                           Resignation     2013.0   \n",
       "648  6.350677e+17                           Resignation     2013.0   \n",
       "649  6.350704e+17                           Resignation     2013.0   \n",
       "650  6.350730e+17                           Resignation     2013.0   \n",
       "\n",
       "                    position    employment_status  gender     age  \\\n",
       "0                    Teacher  Permanent Full-time  Female   36-40   \n",
       "1           Guidance Officer  Permanent Full-time  Female   41-45   \n",
       "2                    Teacher  Permanent Full-time  Female   31-35   \n",
       "3               Teacher Aide  Permanent Part-time  Female   46-50   \n",
       "4                    Teacher  Permanent Full-time    Male   31-35   \n",
       "..                       ...                  ...     ...     ...   \n",
       "646         Operational (OO)  Temporary Full-time    Male  21  25   \n",
       "647  Teacher (including LVT)  Temporary Full-time    Male   51-55   \n",
       "648                      NaN                  NaN     NaN     NaN   \n",
       "649  Teacher (including LVT)  Permanent Full-time  Female   51-55   \n",
       "650      Administration (AO)      Contract/casual  Female  26  30   \n",
       "\n",
       "    institute_service  dissatisfied institute  \n",
       "0                 7.0         False      DETE  \n",
       "1                18.0          True      DETE  \n",
       "2                 3.0         False      DETE  \n",
       "3                15.0          True      DETE  \n",
       "4                 3.0         False      DETE  \n",
       "..                ...           ...       ...  \n",
       "646               5-6         False      TAFE  \n",
       "647               1-2         False      TAFE  \n",
       "648               NaN         False      TAFE  \n",
       "649               5-6         False      TAFE  \n",
       "650               3-4         False      TAFE  \n",
       "\n",
       "[651 rows x 10 columns]"
      ]
     },
     "execution_count": 29,
     "metadata": {},
     "output_type": "execute_result"
    }
   ],
   "source": [
    "combined = pd.concat([dete_resignation, tafe_resignation_copy], ignore_index=True)\n",
    "combined_updated = combined.dropna(axis=1, thresh=500).copy()\n",
    "combined_updated"
   ]
  },
  {
   "cell_type": "markdown",
   "id": "892c4852",
   "metadata": {},
   "source": [
    "After combining the datasets we dropped all columns that have less than 500 non-null values. That action left us with only the columns that appear in both datasets, which are the columns we're interested in."
   ]
  },
  {
   "cell_type": "markdown",
   "id": "6577e1a8",
   "metadata": {},
   "source": [
    "## Institute Service\n",
    "Next, we want to clean the `institute_service` columns.\n",
    "\n",
    "If we look at its values we can see they're all over the place, using a few different formats:"
   ]
  },
  {
   "cell_type": "code",
   "execution_count": 30,
   "id": "44f0f56a",
   "metadata": {},
   "outputs": [
    {
     "data": {
      "text/plain": [
       "institute_service\n",
       "Less than 1 year      73\n",
       "1-2                   64\n",
       "3-4                   63\n",
       "5-6                   33\n",
       "11-20                 26\n",
       "5.0                   23\n",
       "1.0                   22\n",
       "7-10                  21\n",
       "3.0                   20\n",
       "0.0                   20\n",
       "6.0                   17\n",
       "4.0                   16\n",
       "9.0                   14\n",
       "2.0                   14\n",
       "7.0                   13\n",
       "More than 20 years    10\n",
       "13.0                   8\n",
       "8.0                    8\n",
       "15.0                   7\n",
       "20.0                   7\n",
       "10.0                   6\n",
       "14.0                   6\n",
       "12.0                   6\n",
       "17.0                   6\n",
       "22.0                   6\n",
       "18.0                   5\n",
       "16.0                   5\n",
       "11.0                   4\n",
       "23.0                   4\n",
       "24.0                   4\n",
       "32.0                   3\n",
       "39.0                   3\n",
       "19.0                   3\n",
       "21.0                   3\n",
       "36.0                   2\n",
       "25.0                   2\n",
       "30.0                   2\n",
       "26.0                   2\n",
       "28.0                   2\n",
       "49.0                   1\n",
       "41.0                   1\n",
       "27.0                   1\n",
       "42.0                   1\n",
       "29.0                   1\n",
       "34.0                   1\n",
       "31.0                   1\n",
       "33.0                   1\n",
       "35.0                   1\n",
       "38.0                   1\n",
       "Name: count, dtype: int64"
      ]
     },
     "execution_count": 30,
     "metadata": {},
     "output_type": "execute_result"
    }
   ],
   "source": [
    "combined_updated['institute_service'].value_counts()"
   ]
  },
  {
   "cell_type": "markdown",
   "id": "717d9f1b",
   "metadata": {},
   "source": [
    "To analyze the data we'll put it into categories. The categories we'll use are are based on this article, but are slightly modified. They are:\n",
    "\n",
    "- **New**: Less than 3 years at a company\n",
    "- **Experienced**: 3-6 years at a company\n",
    "- **Established**: 7-10 years at a company\n",
    "- **Veteran**: 11 or more years at a company"
   ]
  },
  {
   "cell_type": "code",
   "execution_count": 31,
   "id": "8fce0cae",
   "metadata": {},
   "outputs": [],
   "source": [
    "combined_updated['institute_service'] = combined_updated['institute_service'].astype(str)\n",
    "combined_updated['institute_service_years'] = combined_updated['institute_service'].str.extract('(\\d+)').astype(float)"
   ]
  },
  {
   "cell_type": "code",
   "execution_count": 32,
   "id": "42d3b9c5",
   "metadata": {},
   "outputs": [
    {
     "data": {
      "text/plain": [
       "service_category\n",
       "New            193\n",
       "Experienced    155\n",
       "Veteran        142\n",
       "NaN             88\n",
       "Established     73\n",
       "Name: count, dtype: int64"
      ]
     },
     "execution_count": 32,
     "metadata": {},
     "output_type": "execute_result"
    }
   ],
   "source": [
    "def year_to_categories(val):\n",
    "    if pd.isnull(val):\n",
    "        return np.nan\n",
    "    elif val < 3:\n",
    "        return 'New'\n",
    "    elif val < 6:\n",
    "        return 'Experienced'\n",
    "    elif val < 10:\n",
    "        return 'Established'\n",
    "    else:\n",
    "        return 'Veteran'\n",
    "    \n",
    "combined_updated['service_category'] = combined_updated['institute_service_years'].apply(year_to_categories)\n",
    "combined_updated['service_category'].value_counts(dropna=False)"
   ]
  },
  {
   "cell_type": "markdown",
   "id": "515dcd95",
   "metadata": {},
   "source": [
    "In the code above we used regular expressions to extract the first integer from each institute_service value, converted it from string to float and put in in the new column 'institute_service_years'. We then created a simple function that maps each year to its corresponding category, and used it to populate the new column 'service_cat'. Now we can run the required analyses on the combined dataset."
   ]
  },
  {
   "cell_type": "markdown",
   "id": "7a63f431",
   "metadata": {},
   "source": [
    "## Employee's Age"
   ]
  },
  {
   "cell_type": "markdown",
   "id": "45ae372f",
   "metadata": {},
   "source": [
    "Let's move on to cleaniong the age column:"
   ]
  },
  {
   "cell_type": "code",
   "execution_count": 33,
   "id": "8a9d0487",
   "metadata": {},
   "outputs": [
    {
     "data": {
      "text/plain": [
       "age\n",
       "51-55            71\n",
       "41-45            48\n",
       "41  45           45\n",
       "46-50            42\n",
       "36-40            41\n",
       "46  50           39\n",
       "26-30            35\n",
       "21  25           33\n",
       "36  40           32\n",
       "31  35           32\n",
       "26  30           32\n",
       "21-25            29\n",
       "56 or older      29\n",
       "31-35            29\n",
       "56-60            26\n",
       "61 or older      23\n",
       "20 or younger    10\n",
       "Name: count, dtype: int64"
      ]
     },
     "execution_count": 33,
     "metadata": {},
     "output_type": "execute_result"
    }
   ],
   "source": [
    "combined_updated['age'].value_counts()"
   ]
  },
  {
   "cell_type": "markdown",
   "id": "4fbf7a08",
   "metadata": {},
   "source": [
    "Looks like the TAFE and DETE surveys split the employees' ages into similar brackets (with one exception which we'll address later) - every 5 years between the ages 21 and 55 (or 60), one bracket for anyone older and one for anyone younger.\n",
    "\n",
    "Since one of the surveys has a single bracket for anyone 56 or older, I'll merge both \"56-60\" and \"61 or older\" brackets into a single bracket, to make both datasets match."
   ]
  },
  {
   "cell_type": "code",
   "execution_count": 34,
   "id": "b3da0e11",
   "metadata": {},
   "outputs": [],
   "source": [
    "age_brackets = {\n",
    "    '56-60': '56 or older',\n",
    "    '61 or older': '56 or older'\n",
    "}\n",
    "\n",
    "combined_updated['age'] = combined_updated['age'].str.replace('  ', '-').replace(age_brackets)"
   ]
  },
  {
   "cell_type": "markdown",
   "id": "a34f3587",
   "metadata": {},
   "source": [
    "Now let's look again at the age brackets:"
   ]
  },
  {
   "cell_type": "code",
   "execution_count": 35,
   "id": "27e831ba",
   "metadata": {},
   "outputs": [
    {
     "data": {
      "text/plain": [
       "age\n",
       "41-45            93\n",
       "46-50            81\n",
       "56 or older      78\n",
       "36-40            73\n",
       "51-55            71\n",
       "26-30            67\n",
       "21-25            62\n",
       "31-35            61\n",
       "NaN              55\n",
       "20 or younger    10\n",
       "Name: count, dtype: int64"
      ]
     },
     "execution_count": 35,
     "metadata": {},
     "output_type": "execute_result"
    }
   ],
   "source": [
    "combined_updated['age'].value_counts(dropna=False)"
   ]
  },
  {
   "cell_type": "markdown",
   "id": "75dbca4e",
   "metadata": {},
   "source": [
    "## Analysis\n",
    "We'll start our analysis on the 'dissatisfied' column. Let's confirm the number of True and False in the column:"
   ]
  },
  {
   "cell_type": "code",
   "execution_count": 36,
   "id": "0fd69a92",
   "metadata": {},
   "outputs": [
    {
     "data": {
      "text/plain": [
       "dissatisfied\n",
       "False    403\n",
       "True     248\n",
       "Name: count, dtype: int64"
      ]
     },
     "execution_count": 36,
     "metadata": {},
     "output_type": "execute_result"
    }
   ],
   "source": [
    "combined_updated['dissatisfied'].value_counts(dropna=False)"
   ]
  },
  {
   "cell_type": "markdown",
   "id": "12d1fd45",
   "metadata": {},
   "source": [
    "Now we can get the precentage of dissatisfied employees in each category. df.pivot_table() will by default get the mean of the values. Since True is considered to be 1 and False 0, we can simply call df.pivot_table() with 'dissatisfied' as the values column and 'service_cat' as the index column."
   ]
  },
  {
   "cell_type": "code",
   "execution_count": 37,
   "id": "e3363182",
   "metadata": {},
   "outputs": [
    {
     "data": {
      "text/html": [
       "<div>\n",
       "<style scoped>\n",
       "    .dataframe tbody tr th:only-of-type {\n",
       "        vertical-align: middle;\n",
       "    }\n",
       "\n",
       "    .dataframe tbody tr th {\n",
       "        vertical-align: top;\n",
       "    }\n",
       "\n",
       "    .dataframe thead th {\n",
       "        text-align: right;\n",
       "    }\n",
       "</style>\n",
       "<table border=\"1\" class=\"dataframe\">\n",
       "  <thead>\n",
       "    <tr style=\"text-align: right;\">\n",
       "      <th></th>\n",
       "      <th>dissatisfied</th>\n",
       "    </tr>\n",
       "    <tr>\n",
       "      <th>service_category</th>\n",
       "      <th></th>\n",
       "    </tr>\n",
       "  </thead>\n",
       "  <tbody>\n",
       "    <tr>\n",
       "      <th>Established</th>\n",
       "      <td>0.561644</td>\n",
       "    </tr>\n",
       "    <tr>\n",
       "      <th>Experienced</th>\n",
       "      <td>0.316129</td>\n",
       "    </tr>\n",
       "    <tr>\n",
       "      <th>New</th>\n",
       "      <td>0.295337</td>\n",
       "    </tr>\n",
       "    <tr>\n",
       "      <th>Veteran</th>\n",
       "      <td>0.471831</td>\n",
       "    </tr>\n",
       "  </tbody>\n",
       "</table>\n",
       "</div>"
      ],
      "text/plain": [
       "                  dissatisfied\n",
       "service_category              \n",
       "Established           0.561644\n",
       "Experienced           0.316129\n",
       "New                   0.295337\n",
       "Veteran               0.471831"
      ]
     },
     "execution_count": 37,
     "metadata": {},
     "output_type": "execute_result"
    }
   ],
   "source": [
    "dissatisfaction_by_categories = combined_updated.pivot_table(index='service_category', values='dissatisfied')\n",
    "dissatisfaction_by_categories"
   ]
  },
  {
   "cell_type": "code",
   "execution_count": 39,
   "id": "afaf8a24",
   "metadata": {},
   "outputs": [
    {
     "data": {
      "image/png": "[encoded data removed]",
      "text/plain": [
       "<Figure size 640x480 with 1 Axes>"
      ]
     },
     "metadata": {},
     "output_type": "display_data"
    }
   ],
   "source": [
    "dissatisfaction_by_categories.plot(kind='bar')\n",
    "plt.show()"
   ]
  },
  {
   "cell_type": "markdown",
   "id": "f11f04cd",
   "metadata": {},
   "source": [
    "Looking at the graph above we can clearly see that leaving due to dissatisfaction is lowest with new employees (< 1 year) with about 30% of the resignations being due to dissatisfaction, whereas for veterans (> 11 years) dissatisfaction accounts for almost 50% of the resignations.\n",
    "\n",
    "Let's run a similar analysis, based on the employee's age bracket:"
   ]
  },
  {
   "cell_type": "code",
   "execution_count": 40,
   "id": "9183a635",
   "metadata": {},
   "outputs": [
    {
     "data": {
      "text/html": [
       "<div>\n",
       "<style scoped>\n",
       "    .dataframe tbody tr th:only-of-type {\n",
       "        vertical-align: middle;\n",
       "    }\n",
       "\n",
       "    .dataframe tbody tr th {\n",
       "        vertical-align: top;\n",
       "    }\n",
       "\n",
       "    .dataframe thead th {\n",
       "        text-align: right;\n",
       "    }\n",
       "</style>\n",
       "<table border=\"1\" class=\"dataframe\">\n",
       "  <thead>\n",
       "    <tr style=\"text-align: right;\">\n",
       "      <th></th>\n",
       "      <th>dissatisfied</th>\n",
       "    </tr>\n",
       "    <tr>\n",
       "      <th>age</th>\n",
       "      <th></th>\n",
       "    </tr>\n",
       "  </thead>\n",
       "  <tbody>\n",
       "    <tr>\n",
       "      <th>20 or younger</th>\n",
       "      <td>0.200000</td>\n",
       "    </tr>\n",
       "    <tr>\n",
       "      <th>21-25</th>\n",
       "      <td>0.306452</td>\n",
       "    </tr>\n",
       "    <tr>\n",
       "      <th>26-30</th>\n",
       "      <td>0.417910</td>\n",
       "    </tr>\n",
       "    <tr>\n",
       "      <th>31-35</th>\n",
       "      <td>0.377049</td>\n",
       "    </tr>\n",
       "    <tr>\n",
       "      <th>36-40</th>\n",
       "      <td>0.342466</td>\n",
       "    </tr>\n",
       "    <tr>\n",
       "      <th>41-45</th>\n",
       "      <td>0.376344</td>\n",
       "    </tr>\n",
       "    <tr>\n",
       "      <th>46-50</th>\n",
       "      <td>0.382716</td>\n",
       "    </tr>\n",
       "    <tr>\n",
       "      <th>51-55</th>\n",
       "      <td>0.422535</td>\n",
       "    </tr>\n",
       "    <tr>\n",
       "      <th>56 or older</th>\n",
       "      <td>0.423077</td>\n",
       "    </tr>\n",
       "  </tbody>\n",
       "</table>\n",
       "</div>"
      ],
      "text/plain": [
       "               dissatisfied\n",
       "age                        \n",
       "20 or younger      0.200000\n",
       "21-25              0.306452\n",
       "26-30              0.417910\n",
       "31-35              0.377049\n",
       "36-40              0.342466\n",
       "41-45              0.376344\n",
       "46-50              0.382716\n",
       "51-55              0.422535\n",
       "56 or older        0.423077"
      ]
     },
     "execution_count": 40,
     "metadata": {},
     "output_type": "execute_result"
    }
   ],
   "source": [
    "dissatisfaction_by_age = combined_updated.pivot_table(values='dissatisfied', index='age')\n",
    "dissatisfaction_by_age"
   ]
  },
  {
   "cell_type": "code",
   "execution_count": 41,
   "id": "02b68975",
   "metadata": {},
   "outputs": [
    {
     "data": {
      "text/plain": [
       "<Axes: xlabel='age'>"
      ]
     },
     "execution_count": 41,
     "metadata": {},
     "output_type": "execute_result"
    },
    {
     "data": {
      "image/png": "[encoded data removed]",
      "text/plain": [
       "<Figure size 640x480 with 1 Axes>"
      ]
     },
     "metadata": {},
     "output_type": "display_data"
    }
   ],
   "source": [
    "dissatisfaction_by_age.plot(kind='bar')"
   ]
  },
  {
   "cell_type": "markdown",
   "id": "d58f2a71",
   "metadata": {},
   "source": [
    "From the graph we can learn that younger employees are least likely to resign due to dissatisfaction. Starting from age 26 and above, dissatisfaction is becoming more prevalent, with about 35-40% of the resignations in these ages being sue to dissatisfaction."
   ]
  },
  {
   "cell_type": "markdown",
   "id": "a24a82ad",
   "metadata": {},
   "source": [
    "## Conclusion\n",
    "Organized and cleaned employee exit survey data from the Department of Education, Training and Employment (DETE) and the Technical and Further Education (TAFE) institute in Queensland, Australia.\n",
    "The following observations were made -\n",
    "\n",
    "- Over 50% of employees with more than 7 years of experience noted job dissatisfaction as a reason for their resignation.\n",
    "- Employees over 60 years of age were 52% more dissatisfied at the time of leaving compared to only 37% of employees between the age of 21-30.\n",
    "- There was only a 4% difference in male(41%) versus female(37%) employees citing dissatisfaction as their primary reason.\n",
    "- The dissatisfaction is more prevalent in the Department of Education, Training and Employment (DETE) with 49% of people resigning compared to only 28% of TAFE employees.\n",
    "- Majority of employees that quit due to dissatisfaction worked in teaching jobs(including 'Teacher', 'Teacher Aide', 'Guidance Officer' and 'Tutor') and had been hired as permanent employees.\n",
    "\n",
    "Based on the above findings, it is recommended that further survey be done on `experienced` and `veteran` employees in permanent teaching jobs to assess the reasons for employee dissatisfaction and what can be done to improve it."
   ]
  },
  {
   "cell_type": "code",
   "execution_count": null,
   "id": "a904052f",
   "metadata": {},
   "outputs": [],
   "source": []
  }
 ],
 "metadata": {
  "kernelspec": {
   "display_name": "Python 3 (ipykernel)",
   "language": "python",
   "name": "python3"
  },
  "language_info": {
   "codemirror_mode": {
    "name": "ipython",
    "version": 3
   },
   "file_extension": ".py",
   "mimetype": "text/x-python",
   "name": "python",
   "nbconvert_exporter": "python",
   "pygments_lexer": "ipython3",
   "version": "3.11.5"
  }
 },
 "nbformat": 4,
 "nbformat_minor": 5
}
